{
 "cells": [
  {
   "cell_type": "code",
   "execution_count": null,
   "metadata": {},
   "outputs": [],
   "source": [
    "import torch\n",
    "from SDXL.sdxl_pipeline import AttentionStableDiffusionXLPipeline\n",
    "from visualization_utils import show_image_and_heatmap, visualize_tokens_attentions\n",
    "\n",
    "device = torch.device(\"cuda\" if torch.cuda.is_available() else \"cpu\")\n",
    "pipe = AttentionStableDiffusionXLPipeline.from_pretrained(\n",
    "    \"stabilityai/stable-diffusion-xl-base-1.0\", torch_dtype=torch.float16, variant=\"fp16\"\n",
    ")\n",
    "pipe = pipe.to(device)"
   ]
  },
  {
   "cell_type": "code",
   "execution_count": null,
   "metadata": {},
   "outputs": [],
   "source": [
    "seed = 2\n",
    "prompt = \"a photo of an astronaut riding a horse on mars\"\n",
    "# prompt = \"a puppy sitting on a chair\"\n",
    "image = pipe(prompt, \n",
    "             generator=torch.Generator(device=device).manual_seed(seed),\n",
    "             num_inference_steps=50).images[0]\n",
    "\n",
    "display(image)"
   ]
  },
  {
   "cell_type": "markdown",
   "metadata": {},
   "source": [
    "# Show heatmap"
   ]
  },
  {
   "cell_type": "code",
   "execution_count": null,
   "metadata": {},
   "outputs": [],
   "source": [
    "agg_attn = pipe.attention_store.aggregate_attention()\n",
    "\n",
    "tokens_ids = pipe.tokenizer(prompt, padding=\"max_length\", \n",
    "                            max_length=pipe.tokenizer.model_max_length, \n",
    "                            truncation=True,return_tensors=\"pt\").input_ids[0]\n",
    "tokens_text = [pipe.tokenizer.decode(x) for x in tokens_ids]\n",
    "\n",
    "idx_range = (0, 20)\n",
    "visualize_tokens_attentions(agg_attn.permute(0, 3, 1, 2)[0, idx_range[0]:idx_range[1]], tokens_text[idx_range[0]:idx_range[1]], image, heatmap_interpolation=\"bilinear\")"
   ]
  },
  {
   "cell_type": "markdown",
   "metadata": {},
   "source": [
    "# Show Distribution"
   ]
  },
  {
   "cell_type": "code",
   "execution_count": null,
   "metadata": {},
   "outputs": [],
   "source": [
    "import matplotlib.pyplot as plt\n",
    "\n",
    "\n",
    "agg_attn = pipe.attention_store.aggregate_attention()\n",
    "sum_attn_per_token = agg_attn.view(-1, 77).mean(dim=0).cpu()\n",
    "sum_attn_per_token = sum_attn_per_token / sum_attn_per_token.sum()\n",
    "\n",
    "tokens_ids = pipe.tokenizer(prompt, padding=\"max_length\", \n",
    "                            max_length=pipe.tokenizer.model_max_length, \n",
    "                            truncation=True,return_tensors=\"pt\").input_ids[0]\n",
    "tokens_text = [pipe.tokenizer.decode(x) for x in tokens_ids]\n",
    "\n",
    "# Show a bar plot of the attention per token\n",
    "attn_per_token = {f'{t}_{i}': sum_attn_per_token[i] for i, t in enumerate(tokens_text)}\n",
    "\n",
    "plt.figure(figsize=(25, 5))\n",
    "plt.bar(attn_per_token.keys(), attn_per_token.values())\n",
    "plt.xticks(rotation=90)\n",
    "plt.show()"
   ]
  }
 ],
 "metadata": {
  "kernelspec": {
   "display_name": "addit",
   "language": "python",
   "name": "python3"
  },
  "language_info": {
   "codemirror_mode": {
    "name": "ipython",
    "version": 3
   },
   "file_extension": ".py",
   "mimetype": "text/x-python",
   "name": "python",
   "nbconvert_exporter": "python",
   "pygments_lexer": "ipython3",
   "version": "3.11.9"
  }
 },
 "nbformat": 4,
 "nbformat_minor": 2
}
