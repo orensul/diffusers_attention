{
 "cells": [
  {
   "cell_type": "code",
   "execution_count": null,
   "metadata": {},
   "outputs": [],
   "source": [
    "import os\n",
    "os.environ[\"CUDA_VISIBLE_DEVICES\"] = \"0\"\n",
    "\n",
    "import torch\n",
    "from visualization_utils import visualize_tokens_attentions\n",
    "from FLUX.flux_pipeline import AttentionFluxPipeline\n",
    "from FLUX.flux_transformer import FluxTransformer2DModel\n",
    "\n",
    "FLUX_TYPE = \"dev\"\n",
    "\n",
    "if FLUX_TYPE == \"dev\":\n",
    "    FLUX_ID = \"black-forest-labs/FLUX.1-dev\"\n",
    "elif FLUX_TYPE == \"schnell\":\n",
    "    FLUX_ID = \"black-forest-labs/FLUX.1-schnell\"\n",
    "\n",
    "device = torch.device(\"cuda\" if torch.cuda.is_available() else \"cpu\")\n",
    "transformer  = FluxTransformer2DModel.from_pretrained(FLUX_ID, subfolder=\"transformer\", torch_dtype=torch.bfloat16)\n",
    "pipe = AttentionFluxPipeline.from_pretrained(FLUX_ID, \n",
    "                                             transformer=transformer, \n",
    "                                             torch_dtype=torch.bfloat16)\n",
    "pipe = pipe.to(device)\n",
    "# pipe.enable_model_cpu_offload()"
   ]
  },
  {
   "cell_type": "code",
   "execution_count": null,
   "metadata": {},
   "outputs": [],
   "source": [
    "prompt = \"a photo of an astronaut riding a horse on mars\"\n",
    "PROMPT_LENGTH = 77\n",
    "seed = 2\n",
    "\n",
    "if FLUX_TYPE == \"dev\":\n",
    "    image = pipe(\n",
    "        prompt=prompt,\n",
    "        guidance_scale=3.5,\n",
    "        height=1024,\n",
    "        width=1024,\n",
    "        num_inference_steps=30,\n",
    "        generator=torch.Generator(device).manual_seed(seed),\n",
    "        max_sequence_length=PROMPT_LENGTH\n",
    "    ).images[0]\n",
    "elif FLUX_TYPE == \"schnell\":\n",
    "    image = pipe(\n",
    "        prompt=prompt,\n",
    "        guidance_scale=0.0,\n",
    "        height=1024,\n",
    "        width=1024,\n",
    "        num_inference_steps=4,\n",
    "        generator=torch.Generator(device).manual_seed(seed),\n",
    "        max_sequence_length=PROMPT_LENGTH\n",
    "    ).images[0]\n",
    "\n",
    "display(image)"
   ]
  },
  {
   "cell_type": "markdown",
   "metadata": {},
   "source": [
    "# Show Heatmap"
   ]
  },
  {
   "cell_type": "code",
   "execution_count": null,
   "metadata": {},
   "outputs": [],
   "source": [
    "agg_attn = pipe.attention_store.aggregate_attention().float().cpu()\n",
    "tokens_text = [pipe.tokenizer_2.decode(x) for x in pipe.tokenizer_2(prompt, padding=\"max_length\", return_tensors=\"pt\").input_ids[0]]\n",
    "tokens_text = [f\"{x}_{i}\" for i, x in enumerate(tokens_text)]\n",
    "\n",
    "# idx_range = (490, 512)\n",
    "idx_range = (0,20)\n",
    "visualize_tokens_attentions(agg_attn[0, idx_range[0]:idx_range[1]], tokens_text[idx_range[0]:idx_range[1]], image, heatmap_interpolation=\"bilinear\")"
   ]
  },
  {
   "cell_type": "markdown",
   "metadata": {},
   "source": [
    "# Show Distribution"
   ]
  },
  {
   "cell_type": "code",
   "execution_count": null,
   "metadata": {},
   "outputs": [],
   "source": [
    "import matplotlib.pyplot as plt\n",
    "\n",
    "agg_attn = pipe.attention_store.aggregate_attention().float().cpu()\n",
    "print(agg_attn.shape)\n",
    "sum_attn_per_token = agg_attn.view(PROMPT_LENGTH,-1).mean(dim=1).cpu()\n",
    "sum_attn_per_token = sum_attn_per_token / sum_attn_per_token.sum()\n",
    "\n",
    "tokens_text = [pipe.tokenizer_2.decode(x) for x in pipe.tokenizer_2(prompt, padding=\"max_length\", return_tensors=\"pt\").input_ids[0]][:PROMPT_LENGTH]\n",
    "\n",
    "# Show a bar plot of the attention per token\n",
    "attn_per_token = {f'{t}_{i}': sum_attn_per_token[i] for i, t in enumerate(tokens_text)}\n",
    "\n",
    "plt.figure(figsize=(100, 30))\n",
    "plt.bar(attn_per_token.keys(), attn_per_token.values())\n",
    "plt.xticks(rotation=90)\n",
    "plt.show()"
   ]
  }
 ],
 "metadata": {
  "kernelspec": {
   "display_name": "addit",
   "language": "python",
   "name": "python3"
  },
  "language_info": {
   "codemirror_mode": {
    "name": "ipython",
    "version": 3
   },
   "file_extension": ".py",
   "mimetype": "text/x-python",
   "name": "python",
   "nbconvert_exporter": "python",
   "pygments_lexer": "ipython3",
   "version": "3.11.9"
  }
 },
 "nbformat": 4,
 "nbformat_minor": 2
}
