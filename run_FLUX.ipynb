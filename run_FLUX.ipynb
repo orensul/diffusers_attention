{
 "cells": [
  {
   "cell_type": "code",
   "execution_count": null,
   "metadata": {},
   "outputs": [],
   "source": [
    "import os\n",
    "os.environ[\"CUDA_VISIBLE_DEVICES\"] = \"0\"\n",
    "\n",
    "import torch\n",
    "from visualization_utils import visualize_tokens_attentions\n",
    "from FLUX.flux_pipeline import AttentionFluxPipeline\n",
    "from FLUX.flux_transformer import FluxTransformer2DModel\n",
    "\n",
    "FLUX_TYPE = \"dev\"\n",
    "\n",
    "if FLUX_TYPE == \"dev\":\n",
    "    FLUX_ID = \"black-forest-labs/FLUX.1-dev\"\n",
    "elif FLUX_TYPE == \"schnell\":\n",
    "    FLUX_ID = \"black-forest-labs/FLUX.1-schnell\"\n",
    "\n",
    "device = torch.device(\"cuda\" if torch.cuda.is_available() else \"cpu\")\n",
    "transformer  = FluxTransformer2DModel.from_pretrained(FLUX_ID, subfolder=\"transformer\", torch_dtype=torch.bfloat16)\n",
    "pipe = AttentionFluxPipeline.from_pretrained(FLUX_ID, \n",
    "                                             transformer=transformer, \n",
    "                                             torch_dtype=torch.bfloat16)\n",
    "pipe = pipe.to(device)\n",
    "# pipe.enable_model_cpu_offload()"
   ]
  },
  {
   "cell_type": "code",
   "execution_count": null,
   "metadata": {},
   "outputs": [],
   "source": [
    "# prompt = [\"a photo of an astronaut in the beach\", \"a photo of an astronaut riding a horse in the snow\", \"a photo of an astronaut in the forest\"]\n",
    "# prompt = [\"a photo of a cat in a room\", \"a photo of a cat in the forest\", \"a photo of a cat in the snow\", \"a photo of a cat wearing a hat\"]\n",
    "# prompt = [\"a photo of a girl in a room\", \"a photo of a girl in the forest\", \"a photo of a girl in the snow\", \"a photo of a girl wearing a hat\", \"a photo of a girl in the desert\"]\n",
    "# prompt = [\"a photo of an girl in the beach\", \"a photo of an girl riding a horse in the snow\", \"a photo of an girl in the forest\", \"a photo of an girl playing with a cat\"]\n",
    "# prompt = [\"a photo of a dog in the beach\", \"a photo of a dog riding bicycles in the snow\", \"a photo of a dog in the forest\", \"a photo of a dog playing with a cat\"]\n",
    "prompt = [\"origami style of A dragon, atop an ancient castle\", \"origami style of A dragon, breathing a plume of fire\", \"origami style of A dragon, coiling around its hoard\", \"origami style of A dragon, guarding a treasure trove\", \"origami style of A dragon, resting in a cavern\"]\n",
    "# prompt = [\"A photo of A dog, chasing a frisbee\", \"A photo of A dog, on a beach\", \"A photo of A dog, sleeping on a porch\", \"A photo of A dog, dressed in a superhero cape\", \"A photo of A dog, sitting by a fireplace\"]\n",
    "# prompt = [\"A photo of a robot, in a room\", \"A photo of a robot, in a forest\", \"A photo of a robot, in a snow\", \"A photo of a robot, in a desert\", \"A photo of a robot, in a cave\"]\n",
    "# prompt = [\"A photo of a man in the kitchen\", \"A photo of a man and a woman sitting in the living room\", \"A photo of a man and a woman in the garden\", \"A photo of a woman in the bathroom\"]\n",
    "\n",
    "\n",
    "PROMPT_LENGTH = 512\n",
    "seed = 2\n",
    "\n",
    "extended_attn_kwargs = {'t_range': [(0, 25)]}\n",
    "\n",
    "#[\"none\",  \"multi\", \"multi_even\",  \"multi_first_half\", \"multi_second_half\", \"q1\", \"q2\", \"q3\", \"q4\", \"single\", \"single_even\",  \"single_first_half\", \"single_second_half\", \"mix\"]:\n",
    "for single_config, multi_config in [(\"even\", \"second_half\")]:\n",
    "    for dropout in [0., 0.25, 0.5]:\n",
    "        images = pipe(\n",
    "            prompt=prompt,\n",
    "            guidance_scale=3.5,\n",
    "            height=1024,\n",
    "            width=1024,\n",
    "            num_inference_steps=30,\n",
    "            extended_attn_kwargs=extended_attn_kwargs,\n",
    "            layers_extended_config={'single': single_config, 'multi': multi_config},\n",
    "            \n",
    "            generator=torch.Generator(device).manual_seed(seed),\n",
    "            max_sequence_length=PROMPT_LENGTH,\n",
    "            dropout_value=dropout,\n",
    "            same_latents=False,\n",
    "        ).images\n",
    "\n",
    "        # Display images in a row\n",
    "        from PIL import Image\n",
    "        import matplotlib.pyplot as plt\n",
    "\n",
    "        # Create a figure with subplots in a row\n",
    "        fig, axes = plt.subplots(1, len(images), figsize=(20, 5))\n",
    "        fig.suptitle(f'Layer Config: Single - {single_config}, Multi - {multi_config}, dropout - {dropout}', y=1.05, fontsize=14)\n",
    "\n",
    "        # If only one image, axes will not be an array\n",
    "        if len(images) == 1:\n",
    "            axes = [axes]\n",
    "\n",
    "        # Display each image\n",
    "        for idx, (ax, img) in enumerate(zip(axes, images)):\n",
    "            ax.imshow(img)\n",
    "            ax.axis('off')\n",
    "            ax.set_title(f'Image {idx+1}')\n",
    "\n",
    "        plt.tight_layout()\n",
    "        plt.show()\n"
   ]
  },
  {
   "cell_type": "markdown",
   "metadata": {},
   "source": [
    "# Show Heatmap"
   ]
  },
  {
   "cell_type": "code",
   "execution_count": null,
   "metadata": {},
   "outputs": [],
   "source": [
    "agg_attn = pipe.attention_store.aggregate_attention().float().cpu()\n",
    "tokens_text = [pipe.tokenizer_2.decode(x) for x in pipe.tokenizer_2(prompt, padding=\"max_length\", return_tensors=\"pt\").input_ids[0]]\n",
    "tokens_text = [f\"{x}_{i}\" for i, x in enumerate(tokens_text)]\n",
    "\n",
    "# idx_range = (490, 512)\n",
    "idx_range = (0,20)\n",
    "visualize_tokens_attentions(agg_attn[0, idx_range[0]:idx_range[1]], tokens_text[idx_range[0]:idx_range[1]], image, heatmap_interpolation=\"bilinear\")"
   ]
  },
  {
   "cell_type": "markdown",
   "metadata": {},
   "source": [
    "# Show Distribution"
   ]
  },
  {
   "cell_type": "code",
   "execution_count": null,
   "metadata": {},
   "outputs": [],
   "source": [
    "import matplotlib.pyplot as plt\n",
    "\n",
    "agg_attn = pipe.attention_store.aggregate_attention().float().cpu()\n",
    "print(agg_attn.shape)\n",
    "sum_attn_per_token = agg_attn.view(PROMPT_LENGTH,-1).mean(dim=1).cpu()\n",
    "sum_attn_per_token = sum_attn_per_token / sum_attn_per_token.sum()\n",
    "\n",
    "tokens_text = [pipe.tokenizer_2.decode(x) for x in pipe.tokenizer_2(prompt, padding=\"max_length\", return_tensors=\"pt\").input_ids[0]][:PROMPT_LENGTH]\n",
    "\n",
    "# Show a bar plot of the attention per token\n",
    "attn_per_token = {f'{t}_{i}': sum_attn_per_token[i] for i, t in enumerate(tokens_text)}\n",
    "\n",
    "plt.figure(figsize=(100, 30))\n",
    "plt.bar(attn_per_token.keys(), attn_per_token.values())\n",
    "plt.xticks(rotation=90)\n",
    "plt.show()"
   ]
  }
 ],
 "metadata": {
  "kernelspec": {
   "display_name": "diffusers_attention",
   "language": "python",
   "name": "python3"
  },
  "language_info": {
   "codemirror_mode": {
    "name": "ipython",
    "version": 3
   },
   "file_extension": ".py",
   "mimetype": "text/x-python",
   "name": "python",
   "nbconvert_exporter": "python",
   "pygments_lexer": "ipython3",
   "version": "3.11.9"
  }
 },
 "nbformat": 4,
 "nbformat_minor": 2
}
