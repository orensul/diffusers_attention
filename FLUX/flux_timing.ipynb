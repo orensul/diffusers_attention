{
 "cells": [
  {
   "cell_type": "code",
   "execution_count": null,
   "metadata": {},
   "outputs": [],
   "source": [
    "import os\n",
    "os.environ[\"CUDA_VISIBLE_DEVICES\"] = \"0\"\n",
    "\n",
    "import torch\n",
    "from diffusers import FluxPipeline\n",
    "import time\n",
    "\n",
    "device = torch.device(\"cuda\" if torch.cuda.is_available() else \"cpu\")\n",
    "pipe = FluxPipeline.from_pretrained(\"black-forest-labs/FLUX.1-dev\", torch_dtype=torch.bfloat16)\n",
    "pipe = pipe.to(device)\n",
    "\n",
    "prompt = \"A knife to the left of the plate\"\n",
    "\n",
    "out = pipe(\n",
    "        prompt=prompt,\n",
    "        guidance_scale=3.5,\n",
    "        height=1024,\n",
    "        width=1024,\n",
    "        num_inference_steps=30,\n",
    "        generator=torch.Generator(device).manual_seed(0),\n",
    "        ).images[0]\n",
    "\n",
    "s = time.time()\n",
    "for seed in range(10):\n",
    "    out = pipe(\n",
    "            prompt=prompt,\n",
    "            guidance_scale=3.5,\n",
    "            height=1024,\n",
    "            width=1024,\n",
    "            num_inference_steps=30,\n",
    "            generator=torch.Generator(device).manual_seed(seed),\n",
    "            ).images[0]\n",
    "e = time.time()\n",
    "print(f\"Time: {(e-s)/10}, Max sequence length: 512\")\n",
    "\n",
    "s = time.time()\n",
    "for seed in range(10):\n",
    "    out = pipe(\n",
    "            prompt=prompt,\n",
    "            guidance_scale=3.5,\n",
    "            height=1024,\n",
    "            width=1024,\n",
    "            num_inference_steps=30,\n",
    "            generator=torch.Generator(device).manual_seed(seed),\n",
    "            max_sequence_length=15\n",
    "            ).images[0]\n",
    "e = time.time()\n",
    "print(f\"Time: {(e-s)/10}, Max sequence length: 15\")"
   ]
  }
 ],
 "metadata": {
  "kernelspec": {
   "display_name": "addit",
   "language": "python",
   "name": "python3"
  },
  "language_info": {
   "codemirror_mode": {
    "name": "ipython",
    "version": 3
   },
   "file_extension": ".py",
   "mimetype": "text/x-python",
   "name": "python",
   "nbconvert_exporter": "python",
   "pygments_lexer": "ipython3",
   "version": "3.11.9"
  }
 },
 "nbformat": 4,
 "nbformat_minor": 2
}
